{
 "cells": [
  {
   "cell_type": "code",
   "execution_count": null,
   "metadata": {},
   "outputs": [],
   "source": [
    "from matplotlib import pyplot as plt\n",
    "from collections import Counter, defaultdict\n",
    "import seaborn as sns\n",
    "import pandas as pd\n",
    "import psycopg2\n",
    "import requests\n",
    "import pickle\n",
    "import os\n",
    "import re\n",
    "\n",
    "import warnings\n",
    "\n",
    "warnings.filterwarnings(\"ignore\")\n",
    "\n",
    "%load_ext nb_black"
   ]
  },
  {
   "cell_type": "code",
   "execution_count": null,
   "metadata": {},
   "outputs": [],
   "source": [
    "def connect():\n",
    "    conn = psycopg2.connect(\n",
    "        user=\"postgres\",\n",
    "        password=os.environ.get(\"POSTGRES_PASS\", \"\"),\n",
    "        host=\"localhost\",\n",
    "        port=5432,\n",
    "        database=\"venmo\",\n",
    "    )\n",
    "    return conn"
   ]
  },
  {
   "cell_type": "code",
   "execution_count": null,
   "metadata": {
    "scrolled": true
   },
   "outputs": [],
   "source": [
    "meta = Counter()\n",
    "\n",
    "conn = connect()\n",
    "with conn.cursor(name=\"social_media_exploration\") as cursor:\n",
    "    cursor.itersize = 2000\n",
    "    cursor.execute(\n",
    "        \"SELECT id, username, picture_url, name, bing_results, facebook_results FROM users\"\n",
    "    )\n",
    "    for i, (id_, username, pic_url, name, bing, facebook) in enumerate(cursor):\n",
    "        # for url, title, _ in row[4][\"results\"]:\n",
    "        #    print(url, title)\n",
    "        if facebook is None:\n",
    "            continue\n",
    "        if pic_url in [\"https://s3.amazonaws.com/venmo/no-image.gif\"]:\n",
    "            continue\n",
    "        if \"facebook\" not in pic_url:\n",
    "            continue\n",
    "        print(pic_url)\n",
    "        for item in facebook[\"results\"]:\n",
    "            url = item[\"url\"]\n",
    "            name = item[\"name\"]\n",
    "            print(url, name)\n",
    "\n",
    "conn.close()"
   ]
  }
 ],
 "metadata": {
  "kernelspec": {
   "display_name": "Python 3",
   "language": "python",
   "name": "python3"
  },
  "language_info": {
   "codemirror_mode": {
    "name": "ipython",
    "version": 3
   },
   "file_extension": ".py",
   "mimetype": "text/x-python",
   "name": "python",
   "nbconvert_exporter": "python",
   "pygments_lexer": "ipython3",
   "version": "3.8.3"
  }
 },
 "nbformat": 4,
 "nbformat_minor": 4
}
