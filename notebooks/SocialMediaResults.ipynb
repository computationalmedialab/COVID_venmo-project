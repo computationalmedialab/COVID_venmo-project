{
 "cells": [
  {
   "cell_type": "code",
   "execution_count": 2,
   "metadata": {},
   "outputs": [
    {
     "data": {
      "application/javascript": [
       "\n",
       "            setTimeout(function() {\n",
       "                var nbb_cell_id = 2;\n",
       "                var nbb_unformatted_code = \"from matplotlib import pyplot as plt\\nfrom collections import Counter, defaultdict\\nimport seaborn as sns\\nimport pandas as pd\\nimport psycopg2\\nimport geoplot.crs as gcrs\\nimport geoplot as gplt\\nimport geopandas as gpd\\nimport pickle\\nimport os\\n\\nimport warnings\\n\\nwarnings.filterwarnings(\\\"ignore\\\")\\n\\n%load_ext nb_black\";\n",
       "                var nbb_formatted_code = \"from matplotlib import pyplot as plt\\nfrom collections import Counter, defaultdict\\nimport seaborn as sns\\nimport pandas as pd\\nimport psycopg2\\nimport geoplot.crs as gcrs\\nimport geoplot as gplt\\nimport geopandas as gpd\\nimport pickle\\nimport os\\n\\nimport warnings\\n\\nwarnings.filterwarnings(\\\"ignore\\\")\\n\\n%load_ext nb_black\";\n",
       "                var nbb_cells = Jupyter.notebook.get_cells();\n",
       "                for (var i = 0; i < nbb_cells.length; ++i) {\n",
       "                    if (nbb_cells[i].input_prompt_number == nbb_cell_id) {\n",
       "                        if (nbb_cells[i].get_text() == nbb_unformatted_code) {\n",
       "                             nbb_cells[i].set_text(nbb_formatted_code);\n",
       "                        }\n",
       "                        break;\n",
       "                    }\n",
       "                }\n",
       "            }, 500);\n",
       "            "
      ],
      "text/plain": [
       "<IPython.core.display.Javascript object>"
      ]
     },
     "metadata": {},
     "output_type": "display_data"
    }
   ],
   "source": [
    "from matplotlib import pyplot as plt\n",
    "from collections import Counter, defaultdict\n",
    "import seaborn as sns\n",
    "import pandas as pd\n",
    "import psycopg2\n",
    "import geoplot.crs as gcrs\n",
    "import geoplot as gplt\n",
    "import geopandas as gpd\n",
    "import pickle\n",
    "import os\n",
    "\n",
    "import warnings\n",
    "\n",
    "warnings.filterwarnings(\"ignore\")\n",
    "\n",
    "%load_ext nb_black"
   ]
  },
  {
   "cell_type": "code",
   "execution_count": null,
   "metadata": {},
   "outputs": [],
   "source": [
    "# https://github.com/geopy/geopy\n",
    "#  $ pip install geopy\n",
    "from geopy.geocoders import Nominatim\n",
    "\n",
    "geolocator = Nominatim(user_agent=\"sshh12/venmo-research\")\n",
    "\n",
    "if os.path.isfile(\"geo_cache.pkl\"):\n",
    "    print(\"Using existing geo cache\")\n",
    "    with open(\"geo_cache.pkl\", \"rb\") as f:\n",
    "        geo_cache = pickle.load(f)\n",
    "else:\n",
    "    geo_cache = {}\n",
    "\n",
    "\n",
    "def find_coords(place, cache):\n",
    "    found = cache.get(place)\n",
    "    if found:\n",
    "        return (found.latitude, found.longitude)\n",
    "    location = geolocator.geocode(place)\n",
    "    if location is None:\n",
    "        return None\n",
    "    cache[place] = location\n",
    "    return (location.latitude, location.longitude)"
   ]
  },
  {
   "cell_type": "code",
   "execution_count": null,
   "metadata": {},
   "outputs": [],
   "source": [
    "def connect():\n",
    "    conn = psycopg2.connect(\n",
    "        user=\"postgres\",\n",
    "        password=os.environ.get(\"POSTGRES_PASS\", \"\"),\n",
    "        host=\"localhost\",\n",
    "        port=5432,\n",
    "        database=\"venmo\",\n",
    "    )\n",
    "    return conn"
   ]
  },
  {
   "cell_type": "code",
   "execution_count": null,
   "metadata": {
    "scrolled": false
   },
   "outputs": [],
   "source": [
    "# ==== Stats on 2020-11-22 ====\n",
    "#\n",
    "# 2,477,918 have facebook param in venmo picture\n",
    "#\n",
    "# 104,140 users with peekyou results found\n",
    "#  -> 2,849 peek you image matches\n",
    "# 22,897 users with facebook results\n",
    "# 21,465,744 users with bing results\n",
    "#\n",
    "# 1,107 verified facebook profiles\n",
    "\n",
    "user_id_to_loc = {}\n",
    "\n",
    "\n",
    "def save():\n",
    "    print('Saving checkpoint...')\n",
    "    with open(\"user_id_to_loc.pkl\", \"wb\") as f:\n",
    "        pickle.dump(user_id_to_loc, f)\n",
    "    with open(\"geo_cache.pkl\", \"wb\") as f:\n",
    "        pickle.dump(geo_cache, f)\n",
    "\n",
    "\n",
    "conn = connect()\n",
    "with conn.cursor(name=\"social_media_exploration\") as cursor:\n",
    "    cursor.itersize = 2000\n",
    "    cursor.execute(\n",
    "        \"SELECT id, facebook_profile FROM users WHERE facebook_profile is not null\"\n",
    "    )\n",
    "    for i, (id_, facebook_profile) in enumerate(cursor):\n",
    "        if i % 100 == 0 and i != 0:\n",
    "            save()\n",
    "        info = facebook_profile[\"info\"]\n",
    "        lives_in = [item for item in info if item.startswith(\"Lives\")]\n",
    "        from_ = [item for item in info if item.startswith(\"From \")]\n",
    "        if len(lives_in) > 0:\n",
    "            loc = lives_in[0].replace(\"Lives in \", \"\")\n",
    "        elif len(from_) > 0:\n",
    "            loc = from_[0].replace(\"From  \", \"\")\n",
    "        else:\n",
    "            continue\n",
    "        coords = find_coords(loc, geo_cache)\n",
    "        if coords is None:\n",
    "            continue\n",
    "        lat, lng = coords\n",
    "        user_id_to_loc[id_] = (lat, lng, loc)\n",
    "save()\n",
    "conn.close()"
   ]
  },
  {
   "cell_type": "code",
   "execution_count": null,
   "metadata": {},
   "outputs": [],
   "source": [
    "with open(\"user_id_to_loc.pkl\", \"rb\") as f:\n",
    "    user_id_to_loc_saved = pickle.load(f)\n",
    "\n",
    "world = gpd.read_file(gpd.datasets.get_path(\"naturalearth_lowres\"))\n",
    "contiguous_usa = gpd.read_file(gplt.datasets.get_path(\"contiguous_usa\"))\n",
    "usa = world[world.name == \"United States of America\"]\n",
    "\n",
    "df_data = {\"id\": [], \"lat\": [], \"lng\": [], \"loc\": []}\n",
    "for key, (lat, lng, loc) in user_id_to_loc_saved.items():\n",
    "    df_data[\"id\"].append(key)\n",
    "    df_data[\"lat\"].append(lat)\n",
    "    df_data[\"lng\"].append(lng)\n",
    "    df_data[\"loc\"].append(loc)\n",
    "df = pd.DataFrame(df_data)\n",
    "gdf = gpd.GeoDataFrame(df, geometry=gpd.points_from_xy(df.lng, df.lat))\n",
    "\n",
    "usa_gdf = gdf.loc[gdf.within(usa.iloc[0][\"geometry\"])].copy()\n",
    "\n",
    "# 95% in USA\n",
    "print(round(len(usa_gdf) / len(gdf) * 100), \"% in USA\")"
   ]
  },
  {
   "cell_type": "code",
   "execution_count": null,
   "metadata": {},
   "outputs": [],
   "source": [
    "ax = gplt.webmap(contiguous_usa, projection=gcrs.WebMercator(), figsize=(16, 16))\n",
    "_ = gplt.pointplot(usa_gdf, ax=ax)"
   ]
  }
 ],
 "metadata": {
  "kernelspec": {
   "display_name": "Python 3",
   "language": "python",
   "name": "python3"
  },
  "language_info": {
   "codemirror_mode": {
    "name": "ipython",
    "version": 3
   },
   "file_extension": ".py",
   "mimetype": "text/x-python",
   "name": "python",
   "nbconvert_exporter": "python",
   "pygments_lexer": "ipython3",
   "version": "3.9.0"
  }
 },
 "nbformat": 4,
 "nbformat_minor": 4
}
