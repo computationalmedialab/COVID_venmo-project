{
 "cells": [
  {
   "cell_type": "markdown",
   "metadata": {},
   "source": [
    "#### Shrivu Shankar (ss86692)"
   ]
  },
  {
   "cell_type": "markdown",
   "metadata": {},
   "source": [
    "## Data Collection\n",
    "\n",
    "As part of my work in UT Austin's [Computational Media Lab](http://computationalmedialab.com/), I've been scraping ([code](https://github.com/sshh12/venmo-research)) millions of Venmo transactions and users from Venmno's publically facing API. The data scraped is stored in a local SQL database that I query here to extract sample statistics. I will make the assumption that my sample is less than 10% of the total number of Venmo transactions and that whether a not a user or transaction is returned by the API is independent of any properties of the user or transaction. These assumptions may conflict with the results found as a part of the full research project and are only made to simplify the use of the dataset for this specific assignment."
   ]
  },
  {
   "cell_type": "code",
   "execution_count": 1,
   "metadata": {},
   "outputs": [
    {
     "data": {
      "application/javascript": [
       "\n",
       "            setTimeout(function() {\n",
       "                var nbb_cell_id = 1;\n",
       "                var nbb_unformatted_code = \"from matplotlib import pyplot as plt\\nfrom collections import Counter\\nimport seaborn as sns\\nimport pandas as pd\\nimport numpy as np\\nimport datetime\\nimport psycopg2\\nimport pickle\\nimport emoji\\nimport os\\nimport re\\n\\n%load_ext nb_black\";\n",
       "                var nbb_formatted_code = \"from matplotlib import pyplot as plt\\nfrom collections import Counter\\nimport seaborn as sns\\nimport pandas as pd\\nimport numpy as np\\nimport datetime\\nimport psycopg2\\nimport pickle\\nimport emoji\\nimport os\\nimport re\\n\\n%load_ext nb_black\";\n",
       "                var nbb_cells = Jupyter.notebook.get_cells();\n",
       "                for (var i = 0; i < nbb_cells.length; ++i) {\n",
       "                    if (nbb_cells[i].input_prompt_number == nbb_cell_id) {\n",
       "                        if (nbb_cells[i].get_text() == nbb_unformatted_code) {\n",
       "                             nbb_cells[i].set_text(nbb_formatted_code);\n",
       "                        }\n",
       "                        break;\n",
       "                    }\n",
       "                }\n",
       "            }, 500);\n",
       "            "
      ],
      "text/plain": [
       "<IPython.core.display.Javascript object>"
      ]
     },
     "metadata": {},
     "output_type": "display_data"
    }
   ],
   "source": [
    "from matplotlib import pyplot as plt\n",
    "from collections import Counter\n",
    "import seaborn as sns\n",
    "import pandas as pd\n",
    "import numpy as np\n",
    "import datetime\n",
    "import psycopg2\n",
    "import pickle\n",
    "import emoji\n",
    "import os\n",
    "import re\n",
    "\n",
    "%load_ext nb_black"
   ]
  },
  {
   "cell_type": "code",
   "execution_count": null,
   "metadata": {
    "scrolled": true
   },
   "outputs": [],
   "source": [
    "def connect():\n",
    "    conn = psycopg2.connect(\n",
    "        user=\"postgres\",\n",
    "        password=os.environ.get(\"POSTGRES_PASS\", \"\"),\n",
    "        host=\"localhost\",\n",
    "        port=5432,\n",
    "        database=\"venmo\",\n",
    "    )\n",
    "    return conn\n",
    "\n",
    "meta = Counter()\n",
    "emoji_cnt = Counter()\n",
    "emoji_usage = Counter()\n",
    "actor_transactions = Counter()\n",
    "day_of_week = Counter()\n",
    "hour_of_day = Counter()\n",
    "\n",
    "conn = connect()\n",
    "with conn.cursor(name=\"m358k\") as cursor:\n",
    "    cursor.itersize = 2000\n",
    "    cursor.execute(\"SELECT id, message, created, actor_user_id FROM transactions\")\n",
    "    for i, (id_, msg, created, actor_id) in enumerate(cursor):\n",
    "        meta[\"msgs\"] += 1\n",
    "        day_of_week[created.weekday()] += 1\n",
    "        hour_of_day[created.hour] += 1\n",
    "        actor_transactions[actor_id] += 1\n",
    "        emojis = [c for c in str(msg) if c in emoji.UNICODE_EMOJI]\n",
    "        emoji_cnt[len(emojis)] += 1\n",
    "        for em in emojis:\n",
    "            emoji_usage[em] += 1\n",
    "\n",
    "\n",
    "with open(\"m358k_ckpt.pkl\", \"wb\") as fp:\n",
    "    pickle.dump(\n",
    "        (meta, emoji_cnt, emoji_usage, actor_transactions, day_of_week, hour_of_day), fp\n",
    "    )\n",
    "\n",
    "conn.close()"
   ]
  },
  {
   "cell_type": "markdown",
   "metadata": {},
   "source": [
    "## Data Exploration\n",
    "\n",
    "Some charts to get a feel for the data."
   ]
  },
  {
   "cell_type": "code",
   "execution_count": 2,
   "metadata": {},
   "outputs": [
    {
     "data": {
      "application/javascript": [
       "\n",
       "            setTimeout(function() {\n",
       "                var nbb_cell_id = 2;\n",
       "                var nbb_unformatted_code = \"with open(\\\"m358k_ckpt.pkl\\\", \\\"rb\\\") as fp:\\n    (\\n        meta,\\n        emoji_cnt,\\n        emoji_usage,\\n        actor_transactions,\\n        day_of_week,\\n        hour_of_day,\\n    ) = pickle.load(fp)\\n\\n# turn transactions per user into num users for each # of transactions\\nuser_transaction_cnts = Counter()\\nfor user, num_sent in actor_transactions.items():\\n    user_transaction_cnts[num_sent] += 1\";\n",
       "                var nbb_formatted_code = \"with open(\\\"m358k_ckpt.pkl\\\", \\\"rb\\\") as fp:\\n    (\\n        meta,\\n        emoji_cnt,\\n        emoji_usage,\\n        actor_transactions,\\n        day_of_week,\\n        hour_of_day,\\n    ) = pickle.load(fp)\\n\\n# turn transactions per user into num users for each # of transactions\\nuser_transaction_cnts = Counter()\\nfor user, num_sent in actor_transactions.items():\\n    user_transaction_cnts[num_sent] += 1\";\n",
       "                var nbb_cells = Jupyter.notebook.get_cells();\n",
       "                for (var i = 0; i < nbb_cells.length; ++i) {\n",
       "                    if (nbb_cells[i].input_prompt_number == nbb_cell_id) {\n",
       "                        if (nbb_cells[i].get_text() == nbb_unformatted_code) {\n",
       "                             nbb_cells[i].set_text(nbb_formatted_code);\n",
       "                        }\n",
       "                        break;\n",
       "                    }\n",
       "                }\n",
       "            }, 500);\n",
       "            "
      ],
      "text/plain": [
       "<IPython.core.display.Javascript object>"
      ]
     },
     "metadata": {},
     "output_type": "display_data"
    }
   ],
   "source": [
    "with open(\"m358k_ckpt.pkl\", \"rb\") as fp:\n",
    "    (\n",
    "        meta,\n",
    "        emoji_cnt,\n",
    "        emoji_usage,\n",
    "        actor_transactions,\n",
    "        day_of_week,\n",
    "        hour_of_day,\n",
    "    ) = pickle.load(fp)\n",
    "\n",
    "# turn transactions per user into num users for each # of transactions\n",
    "user_transaction_cnts = Counter()\n",
    "for user, num_sent in actor_transactions.items():\n",
    "    user_transaction_cnts[num_sent] += 1"
   ]
  },
  {
   "cell_type": "code",
   "execution_count": 3,
   "metadata": {},
   "outputs": [
    {
     "name": "stdout",
     "output_type": "stream",
     "text": [
      "135900627 transactions found and 16527360 unique users\n"
     ]
    },
    {
     "data": {
      "application/javascript": [
       "\n",
       "            setTimeout(function() {\n",
       "                var nbb_cell_id = 3;\n",
       "                var nbb_unformatted_code = \"print(meta[\\\"msgs\\\"], \\\"transactions found and\\\", len(actor_transactions), \\\"unique users\\\")\";\n",
       "                var nbb_formatted_code = \"print(meta[\\\"msgs\\\"], \\\"transactions found and\\\", len(actor_transactions), \\\"unique users\\\")\";\n",
       "                var nbb_cells = Jupyter.notebook.get_cells();\n",
       "                for (var i = 0; i < nbb_cells.length; ++i) {\n",
       "                    if (nbb_cells[i].input_prompt_number == nbb_cell_id) {\n",
       "                        if (nbb_cells[i].get_text() == nbb_unformatted_code) {\n",
       "                             nbb_cells[i].set_text(nbb_formatted_code);\n",
       "                        }\n",
       "                        break;\n",
       "                    }\n",
       "                }\n",
       "            }, 500);\n",
       "            "
      ],
      "text/plain": [
       "<IPython.core.display.Javascript object>"
      ]
     },
     "metadata": {},
     "output_type": "display_data"
    }
   ],
   "source": [
    "print(meta[\"msgs\"], \"transactions found and\", len(actor_transactions), \"unique users\")"
   ]
  },
  {
   "cell_type": "code",
   "execution_count": 4,
   "metadata": {},
   "outputs": [
    {
     "data": {
      "image/png": "[encoded data removed]",
      "text/plain": [
       "<Figure size 432x288 with 1 Axes>"
      ]
     },
     "metadata": {
      "needs_background": "light"
     },
     "output_type": "display_data"
    },
    {
     "data": {
      "application/javascript": [
       "\n",
       "            setTimeout(function() {\n",
       "                var nbb_cell_id = 4;\n",
       "                var nbb_unformatted_code = \"df = (\\n    pd.DataFrame.from_dict(day_of_week, orient=\\\"index\\\")\\n    .reset_index()\\n    .rename(columns={\\\"index\\\": \\\"Day\\\", 0: \\\"Count\\\"})\\n)\\nfig = sns.barplot(x=df[\\\"Day\\\"], y=df[\\\"Count\\\"])\\nfig.set_title(\\\"Transactions by Day of Week\\\")\\n_ = fig.set_xticklabels([\\\"Mon\\\", \\\"Tue\\\", \\\"Wed\\\", \\\"Thr\\\", \\\"Fri\\\", \\\"Sat\\\", \\\"Sun\\\"])\";\n",
       "                var nbb_formatted_code = \"df = (\\n    pd.DataFrame.from_dict(day_of_week, orient=\\\"index\\\")\\n    .reset_index()\\n    .rename(columns={\\\"index\\\": \\\"Day\\\", 0: \\\"Count\\\"})\\n)\\nfig = sns.barplot(x=df[\\\"Day\\\"], y=df[\\\"Count\\\"])\\nfig.set_title(\\\"Transactions by Day of Week\\\")\\n_ = fig.set_xticklabels([\\\"Mon\\\", \\\"Tue\\\", \\\"Wed\\\", \\\"Thr\\\", \\\"Fri\\\", \\\"Sat\\\", \\\"Sun\\\"])\";\n",
       "                var nbb_cells = Jupyter.notebook.get_cells();\n",
       "                for (var i = 0; i < nbb_cells.length; ++i) {\n",
       "                    if (nbb_cells[i].input_prompt_number == nbb_cell_id) {\n",
       "                        if (nbb_cells[i].get_text() == nbb_unformatted_code) {\n",
       "                             nbb_cells[i].set_text(nbb_formatted_code);\n",
       "                        }\n",
       "                        break;\n",
       "                    }\n",
       "                }\n",
       "            }, 500);\n",
       "            "
      ],
      "text/plain": [
       "<IPython.core.display.Javascript object>"
      ]
     },
     "metadata": {},
     "output_type": "display_data"
    }
   ],
   "source": [
    "df = (\n",
    "    pd.DataFrame.from_dict(day_of_week, orient=\"index\")\n",
    "    .reset_index()\n",
    "    .rename(columns={\"index\": \"Day\", 0: \"Count\"})\n",
    ")\n",
    "fig = sns.barplot(x=df[\"Day\"], y=df[\"Count\"])\n",
    "fig.set_title(\"Transactions by Day of Week\")\n",
    "_ = fig.set_xticklabels([\"Mon\", \"Tue\", \"Wed\", \"Thr\", \"Fri\", \"Sat\", \"Sun\"])"
   ]
  },
  {
   "cell_type": "code",
   "execution_count": 5,
   "metadata": {},
   "outputs": [
    {
     "data": {
      "image/png": "[encoded data removed]",
      "text/plain": [
       "<Figure size 432x288 with 1 Axes>"
      ]
     },
     "metadata": {
      "needs_background": "light"
     },
     "output_type": "display_data"
    },
    {
     "data": {
      "application/javascript": [
       "\n",
       "            setTimeout(function() {\n",
       "                var nbb_cell_id = 5;\n",
       "                var nbb_unformatted_code = \"# don't actually know what timezone this is in, but can probably be assumed to be Pacific Time\\ndf = (\\n    pd.DataFrame.from_dict(hour_of_day, orient=\\\"index\\\")\\n    .reset_index()\\n    .rename(columns={\\\"index\\\": \\\"Hour\\\", 0: \\\"Count\\\"})\\n)\\n_ = sns.barplot(x=df[\\\"Hour\\\"], y=df[\\\"Count\\\"]).set_title(\\\"Transactions by Hour of Day\\\")\";\n",
       "                var nbb_formatted_code = \"# don't actually know what timezone this is in, but can probably be assumed to be Pacific Time\\ndf = (\\n    pd.DataFrame.from_dict(hour_of_day, orient=\\\"index\\\")\\n    .reset_index()\\n    .rename(columns={\\\"index\\\": \\\"Hour\\\", 0: \\\"Count\\\"})\\n)\\n_ = sns.barplot(x=df[\\\"Hour\\\"], y=df[\\\"Count\\\"]).set_title(\\\"Transactions by Hour of Day\\\")\";\n",
       "                var nbb_cells = Jupyter.notebook.get_cells();\n",
       "                for (var i = 0; i < nbb_cells.length; ++i) {\n",
       "                    if (nbb_cells[i].input_prompt_number == nbb_cell_id) {\n",
       "                        if (nbb_cells[i].get_text() == nbb_unformatted_code) {\n",
       "                             nbb_cells[i].set_text(nbb_formatted_code);\n",
       "                        }\n",
       "                        break;\n",
       "                    }\n",
       "                }\n",
       "            }, 500);\n",
       "            "
      ],
      "text/plain": [
       "<IPython.core.display.Javascript object>"
      ]
     },
     "metadata": {},
     "output_type": "display_data"
    }
   ],
   "source": [
    "# don't actually know what timezone this is in, but can probably be assumed to be Pacific Time\n",
    "df = (\n",
    "    pd.DataFrame.from_dict(hour_of_day, orient=\"index\")\n",
    "    .reset_index()\n",
    "    .rename(columns={\"index\": \"Hour\", 0: \"Count\"})\n",
    ")\n",
    "_ = sns.barplot(x=df[\"Hour\"], y=df[\"Count\"]).set_title(\"Transactions by Hour of Day\")"
   ]
  },
  {
   "cell_type": "code",
   "execution_count": 7,
   "metadata": {},
   "outputs": [
    {
     "data": {
      "image/png": "[encoded data removed]",
      "text/plain": [
       "<Figure size 432x288 with 1 Axes>"
      ]
     },
     "metadata": {
      "needs_background": "light"
     },
     "output_type": "display_data"
    },
    {
     "data": {
      "application/javascript": [
       "\n",
       "            setTimeout(function() {\n",
       "                var nbb_cell_id = 7;\n",
       "                var nbb_unformatted_code = \"df = (\\n    pd.DataFrame.from_dict(emoji_cnt, orient=\\\"index\\\")\\n    .reset_index()\\n    .rename(columns={\\\"index\\\": \\\"Num Emojis\\\", 0: \\\"Count\\\"})\\n)\\ndf = df[df[\\\"Num Emojis\\\"] < 10]\\n_ = sns.barplot(x=df[\\\"Num Emojis\\\"], y=df[\\\"Count\\\"]).set_title(\\n    \\\"Number of Emojis in Transactions\\\"\\n)\";\n",
       "                var nbb_formatted_code = \"df = (\\n    pd.DataFrame.from_dict(emoji_cnt, orient=\\\"index\\\")\\n    .reset_index()\\n    .rename(columns={\\\"index\\\": \\\"Num Emojis\\\", 0: \\\"Count\\\"})\\n)\\ndf = df[df[\\\"Num Emojis\\\"] < 10]\\n_ = sns.barplot(x=df[\\\"Num Emojis\\\"], y=df[\\\"Count\\\"]).set_title(\\n    \\\"Number of Emojis in Transactions\\\"\\n)\";\n",
       "                var nbb_cells = Jupyter.notebook.get_cells();\n",
       "                for (var i = 0; i < nbb_cells.length; ++i) {\n",
       "                    if (nbb_cells[i].input_prompt_number == nbb_cell_id) {\n",
       "                        if (nbb_cells[i].get_text() == nbb_unformatted_code) {\n",
       "                             nbb_cells[i].set_text(nbb_formatted_code);\n",
       "                        }\n",
       "                        break;\n",
       "                    }\n",
       "                }\n",
       "            }, 500);\n",
       "            "
      ],
      "text/plain": [
       "<IPython.core.display.Javascript object>"
      ]
     },
     "metadata": {},
     "output_type": "display_data"
    }
   ],
   "source": [
    "df = (\n",
    "    pd.DataFrame.from_dict(emoji_cnt, orient=\"index\")\n",
    "    .reset_index()\n",
    "    .rename(columns={\"index\": \"Num Emojis\", 0: \"Count\"})\n",
    ")\n",
    "df = df[df[\"Num Emojis\"] < 10]\n",
    "_ = sns.barplot(x=df[\"Num Emojis\"], y=df[\"Count\"]).set_title(\n",
    "    \"Number of Emojis in Transactions\"\n",
    ")"
   ]
  },
  {
   "cell_type": "code",
   "execution_count": 8,
   "metadata": {},
   "outputs": [
    {
     "data": {
      "image/png": "[encoded data removed]",
      "text/plain": [
       "<Figure size 432x288 with 1 Axes>"
      ]
     },
     "metadata": {
      "needs_background": "light"
     },
     "output_type": "display_data"
    },
    {
     "data": {
      "application/javascript": [
       "\n",
       "            setTimeout(function() {\n",
       "                var nbb_cell_id = 8;\n",
       "                var nbb_unformatted_code = \"df = (\\n    pd.DataFrame.from_dict(user_transaction_cnts, orient=\\\"index\\\")\\n    .reset_index()\\n    .rename(columns={\\\"index\\\": \\\"Sent Transactions\\\", 0: \\\"Count\\\"})\\n)\\ndf = df[df[\\\"Sent Transactions\\\"] < 10]\\n_ = sns.barplot(x=df[\\\"Sent Transactions\\\"], y=df[\\\"Count\\\"]).set_title(\\n    \\\"Number of Transactions That Users Do\\\"\\n)\";\n",
       "                var nbb_formatted_code = \"df = (\\n    pd.DataFrame.from_dict(user_transaction_cnts, orient=\\\"index\\\")\\n    .reset_index()\\n    .rename(columns={\\\"index\\\": \\\"Sent Transactions\\\", 0: \\\"Count\\\"})\\n)\\ndf = df[df[\\\"Sent Transactions\\\"] < 10]\\n_ = sns.barplot(x=df[\\\"Sent Transactions\\\"], y=df[\\\"Count\\\"]).set_title(\\n    \\\"Number of Transactions That Users Do\\\"\\n)\";\n",
       "                var nbb_cells = Jupyter.notebook.get_cells();\n",
       "                for (var i = 0; i < nbb_cells.length; ++i) {\n",
       "                    if (nbb_cells[i].input_prompt_number == nbb_cell_id) {\n",
       "                        if (nbb_cells[i].get_text() == nbb_unformatted_code) {\n",
       "                             nbb_cells[i].set_text(nbb_formatted_code);\n",
       "                        }\n",
       "                        break;\n",
       "                    }\n",
       "                }\n",
       "            }, 500);\n",
       "            "
      ],
      "text/plain": [
       "<IPython.core.display.Javascript object>"
      ]
     },
     "metadata": {},
     "output_type": "display_data"
    }
   ],
   "source": [
    "df = (\n",
    "    pd.DataFrame.from_dict(user_transaction_cnts, orient=\"index\")\n",
    "    .reset_index()\n",
    "    .rename(columns={\"index\": \"Sent Transactions\", 0: \"Count\"})\n",
    ")\n",
    "df = df[df[\"Sent Transactions\"] < 10]\n",
    "_ = sns.barplot(x=df[\"Sent Transactions\"], y=df[\"Count\"]).set_title(\n",
    "    \"Number of Transactions That Users Do\"\n",
    ")"
   ]
  },
  {
   "cell_type": "markdown",
   "metadata": {},
   "source": [
    "## Confidence Interval: Mean Transactions Per User"
   ]
  },
  {
   "cell_type": "code",
   "execution_count": 9,
   "metadata": {},
   "outputs": [
    {
     "name": "stdout",
     "output_type": "stream",
     "text": [
      "x mean = 8.222766793970726 stddev = 56.29812972663279 n = 16527360\n"
     ]
    },
    {
     "data": {
      "application/javascript": [
       "\n",
       "            setTimeout(function() {\n",
       "                var nbb_cell_id = 9;\n",
       "                var nbb_unformatted_code = \"transactions = []\\nfor t_cnt, cnt in user_transaction_cnts.items():\\n    transactions.extend([t_cnt] * cnt)\\nprint(\\n    \\\"x mean =\\\",\\n    np.mean(transactions),\\n    \\\"stddev =\\\",\\n    np.std(transactions, ddof=1),\\n    \\\"n =\\\",\\n    len(transactions),\\n)\";\n",
       "                var nbb_formatted_code = \"transactions = []\\nfor t_cnt, cnt in user_transaction_cnts.items():\\n    transactions.extend([t_cnt] * cnt)\\nprint(\\n    \\\"x mean =\\\",\\n    np.mean(transactions),\\n    \\\"stddev =\\\",\\n    np.std(transactions, ddof=1),\\n    \\\"n =\\\",\\n    len(transactions),\\n)\";\n",
       "                var nbb_cells = Jupyter.notebook.get_cells();\n",
       "                for (var i = 0; i < nbb_cells.length; ++i) {\n",
       "                    if (nbb_cells[i].input_prompt_number == nbb_cell_id) {\n",
       "                        if (nbb_cells[i].get_text() == nbb_unformatted_code) {\n",
       "                             nbb_cells[i].set_text(nbb_formatted_code);\n",
       "                        }\n",
       "                        break;\n",
       "                    }\n",
       "                }\n",
       "            }, 500);\n",
       "            "
      ],
      "text/plain": [
       "<IPython.core.display.Javascript object>"
      ]
     },
     "metadata": {},
     "output_type": "display_data"
    }
   ],
   "source": [
    "transactions = []\n",
    "for t_cnt, cnt in user_transaction_cnts.items():\n",
    "    transactions.extend([t_cnt] * cnt)\n",
    "print(\n",
    "    \"x mean =\",\n",
    "    np.mean(transactions),\n",
    "    \"stddev =\",\n",
    "    np.std(transactions, ddof=1),\n",
    "    \"n =\",\n",
    "    len(transactions),\n",
    ")"
   ]
  },
  {
   "cell_type": "markdown",
   "metadata": {},
   "source": [
    "$CI_{99\\%} = 8.2228 \\pm 2.576 \\frac{56.2981}{\\sqrt{16527360}} = (8.1871, 8.2584)$"
   ]
  },
  {
   "cell_type": "markdown",
   "metadata": {},
   "source": [
    "## Confidence Interval: Proportion of Transactions With Emojis"
   ]
  },
  {
   "cell_type": "code",
   "execution_count": 10,
   "metadata": {},
   "outputs": [
    {
     "name": "stdout",
     "output_type": "stream",
     "text": [
      "p = 0.3935647257904116 n = 135900627\n"
     ]
    },
    {
     "data": {
      "application/javascript": [
       "\n",
       "            setTimeout(function() {\n",
       "                var nbb_cell_id = 10;\n",
       "                var nbb_unformatted_code = \"emojis = []\\nfor e_cnt, cnt in emoji_cnt.items():\\n    if e_cnt == 0:\\n        emojis.extend([0] * cnt)\\n    else:\\n        emojis.extend([1] * cnt)\\nprint(\\n    \\\"p =\\\",\\n    np.mean(emojis),\\n    \\\"n =\\\",\\n    len(emojis),\\n)\";\n",
       "                var nbb_formatted_code = \"emojis = []\\nfor e_cnt, cnt in emoji_cnt.items():\\n    if e_cnt == 0:\\n        emojis.extend([0] * cnt)\\n    else:\\n        emojis.extend([1] * cnt)\\nprint(\\n    \\\"p =\\\",\\n    np.mean(emojis),\\n    \\\"n =\\\",\\n    len(emojis),\\n)\";\n",
       "                var nbb_cells = Jupyter.notebook.get_cells();\n",
       "                for (var i = 0; i < nbb_cells.length; ++i) {\n",
       "                    if (nbb_cells[i].input_prompt_number == nbb_cell_id) {\n",
       "                        if (nbb_cells[i].get_text() == nbb_unformatted_code) {\n",
       "                             nbb_cells[i].set_text(nbb_formatted_code);\n",
       "                        }\n",
       "                        break;\n",
       "                    }\n",
       "                }\n",
       "            }, 500);\n",
       "            "
      ],
      "text/plain": [
       "<IPython.core.display.Javascript object>"
      ]
     },
     "metadata": {},
     "output_type": "display_data"
    }
   ],
   "source": [
    "emojis = []\n",
    "for e_cnt, cnt in emoji_cnt.items():\n",
    "    if e_cnt == 0:\n",
    "        emojis.extend([0] * cnt)\n",
    "    else:\n",
    "        emojis.extend([1] * cnt)\n",
    "print(\n",
    "    \"p =\",\n",
    "    np.mean(emojis),\n",
    "    \"n =\",\n",
    "    len(emojis),\n",
    ")"
   ]
  },
  {
   "cell_type": "markdown",
   "metadata": {},
   "source": [
    "$CI_{99\\%} = 0.3936 \\pm 2.576 \\sqrt{\\frac{0.3935(1-0.3935)}{135900627}} = (0.3935, 0.3937)$"
   ]
  },
  {
   "cell_type": "markdown",
   "metadata": {},
   "source": [
    "## Test: GoF Transactions and Day of Week\n",
    "\n",
    "$$H_0: \\text{There is no association between day of the week and user transactions}, H_a: \\text{There is an association}$$"
   ]
  },
  {
   "cell_type": "code",
   "execution_count": 11,
   "metadata": {},
   "outputs": [
    {
     "name": "stdout",
     "output_type": "stream",
     "text": [
      "expected =  [19414375, 19414375, 19414375, 19414375, 19414375, 19414375, 19414375]\n",
      "observed =  [18454391, 17572686, 17455729, 18148538, 21603216, 21776043, 20890024]\n",
      "df =  6\n"
     ]
    },
    {
     "data": {
      "application/javascript": [
       "\n",
       "            setTimeout(function() {\n",
       "                var nbb_cell_id = 11;\n",
       "                var nbb_unformatted_code = \"expected = []\\nobserved = []\\nfor i in range(7):\\n    expected.append(round(sum(day_of_week.values()) / 7))\\n    observed.append(day_of_week[i])\\nprint(\\\"expected = \\\", expected)\\nprint(\\\"observed = \\\", observed)\\nprint(\\\"df = \\\", len(expected) - 1)\";\n",
       "                var nbb_formatted_code = \"expected = []\\nobserved = []\\nfor i in range(7):\\n    expected.append(round(sum(day_of_week.values()) / 7))\\n    observed.append(day_of_week[i])\\nprint(\\\"expected = \\\", expected)\\nprint(\\\"observed = \\\", observed)\\nprint(\\\"df = \\\", len(expected) - 1)\";\n",
       "                var nbb_cells = Jupyter.notebook.get_cells();\n",
       "                for (var i = 0; i < nbb_cells.length; ++i) {\n",
       "                    if (nbb_cells[i].input_prompt_number == nbb_cell_id) {\n",
       "                        if (nbb_cells[i].get_text() == nbb_unformatted_code) {\n",
       "                             nbb_cells[i].set_text(nbb_formatted_code);\n",
       "                        }\n",
       "                        break;\n",
       "                    }\n",
       "                }\n",
       "            }, 500);\n",
       "            "
      ],
      "text/plain": [
       "<IPython.core.display.Javascript object>"
      ]
     },
     "metadata": {},
     "output_type": "display_data"
    }
   ],
   "source": [
    "expected = []\n",
    "observed = []\n",
    "for i in range(7):\n",
    "    expected.append(round(sum(day_of_week.values()) / 7))\n",
    "    observed.append(day_of_week[i])\n",
    "print(\"expected = \", expected)\n",
    "print(\"observed = \", observed)\n",
    "print(\"df = \", len(expected) - 1)"
   ]
  },
  {
   "cell_type": "markdown",
   "metadata": {},
   "source": [
    "$\\chi^2 = 1.148*10^{6}, \\text{p-value} \\approx 0$"
   ]
  }
 ],
 "metadata": {
  "kernelspec": {
   "display_name": "Python 3",
   "language": "python",
   "name": "python3"
  },
  "language_info": {
   "codemirror_mode": {
    "name": "ipython",
    "version": 3
   },
   "file_extension": ".py",
   "mimetype": "text/x-python",
   "name": "python",
   "nbconvert_exporter": "python",
   "pygments_lexer": "ipython3",
   "version": "3.9.0"
  }
 },
 "nbformat": 4,
 "nbformat_minor": 4
}
