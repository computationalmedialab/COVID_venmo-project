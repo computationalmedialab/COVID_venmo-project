{
 "cells": [
  {
   "cell_type": "code",
   "execution_count": null,
   "metadata": {},
   "outputs": [],
   "source": [
    "from matplotlib import pyplot as plt\n",
    "from collections import Counter, defaultdict\n",
    "from IPython.display import display, HTML\n",
    "import seaborn as sns\n",
    "import pandas as pd\n",
    "import psycopg2\n",
    "import requests\n",
    "import pickle\n",
    "import random\n",
    "import os\n",
    "import re\n",
    "\n",
    "import warnings\n",
    "\n",
    "warnings.filterwarnings(\"ignore\")\n",
    "\n",
    "%load_ext nb_black"
   ]
  },
  {
   "cell_type": "code",
   "execution_count": null,
   "metadata": {},
   "outputs": [],
   "source": [
    "def connect():\n",
    "    conn = psycopg2.connect(\n",
    "        user=\"postgres\",\n",
    "        password=os.environ.get(\"POSTGRES_PASS\", \"\"),\n",
    "        host=\"localhost\",\n",
    "        port=5432,\n",
    "        database=\"venmo\",\n",
    "    )\n",
    "    return conn"
   ]
  },
  {
   "cell_type": "code",
   "execution_count": null,
   "metadata": {
    "scrolled": true
   },
   "outputs": [],
   "source": [
    "if os.path.exists(\"trans-clf-dataset.pkl\"):\n",
    "    print('loaded labels.')\n",
    "    with open(\"trans-clf-dataset.pkl\", \"rb\") as fp:\n",
    "        labels = pickle.load(fp)\n",
    "else:\n",
    "    labels = {}\n",
    "\n",
    "conn = connect()\n",
    "loop = True\n",
    "while loop:\n",
    "    with conn.cursor(name=\"exploration\") as cursor:\n",
    "        cursor.itersize = 2000\n",
    "        cursor.execute(\"SELECT * FROM transactions ORDER BY RANDOM() LIMIT 50\")\n",
    "        for i, row in enumerate(cursor):\n",
    "            raw_msg = row[1]\n",
    "            if raw_msg in labels:\n",
    "                continue\n",
    "            resp = input(raw_msg + \" \")\n",
    "            if \"e\" in resp:\n",
    "                loop = False\n",
    "                break\n",
    "            elif \"y\" in resp:\n",
    "                labels[raw_msg] = True\n",
    "            else:\n",
    "                labels[raw_msg] = False\n",
    "        print(\"saving...\")\n",
    "        with open(\"trans-clf-dataset.pkl\", \"wb\") as fp:\n",
    "            pickle.dump(labels, fp)\n",
    "\n",
    "conn.close()"
   ]
  },
  {
   "cell_type": "code",
   "execution_count": null,
   "metadata": {},
   "outputs": [],
   "source": [
    "labels"
   ]
  }
 ],
 "metadata": {
  "kernelspec": {
   "display_name": "Python 3",
   "language": "python",
   "name": "python3"
  },
  "language_info": {
   "codemirror_mode": {
    "name": "ipython",
    "version": 3
   },
   "file_extension": ".py",
   "mimetype": "text/x-python",
   "name": "python",
   "nbconvert_exporter": "python",
   "pygments_lexer": "ipython3",
   "version": "3.8.3"
  }
 },
 "nbformat": 4,
 "nbformat_minor": 4
}
