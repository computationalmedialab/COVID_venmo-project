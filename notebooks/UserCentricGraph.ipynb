{
 "cells": [
  {
   "cell_type": "code",
   "execution_count": null,
   "metadata": {},
   "outputs": [],
   "source": [
    "from matplotlib import pyplot as plt\n",
    "from collections import defaultdict\n",
    "import seaborn as sns\n",
    "import pandas as pd\n",
    "import psycopg2\n",
    "import datetime\n",
    "import pickle\n",
    "import os\n",
    "\n",
    "%load_ext nb_black"
   ]
  },
  {
   "cell_type": "code",
   "execution_count": null,
   "metadata": {},
   "outputs": [],
   "source": [
    "def connect():\n",
    "    conn = psycopg2.connect(\n",
    "        user=\"postgres\",\n",
    "        password=os.environ.get(\"POSTGRES_PASS\", \"\"),\n",
    "        host=\"localhost\",\n",
    "        port=5432,\n",
    "        database=\"venmo\",\n",
    "    )\n",
    "    return conn\n",
    "\n",
    "\n",
    "def location_to_state(location):\n",
    "    name = location.raw[\"display_name\"]\n",
    "    if \"United States of America\" not in name:\n",
    "        return None\n",
    "    a, b, c = ([\"na\"] + name.split(\", \"))[-3:]\n",
    "    if b.replace(\"-\", \"\").replace(\":\", \"\").isdigit():\n",
    "        return a\n",
    "    return b"
   ]
  },
  {
   "cell_type": "code",
   "execution_count": null,
   "metadata": {},
   "outputs": [],
   "source": [
    "with open(\"user_id_to_loc.pkl\", \"rb\") as f:\n",
    "    user_id_to_loc_saved = pickle.load(f)\n",
    "with open(\"geo_cache.pkl\", \"rb\") as f:\n",
    "    geo_cache = pickle.load(f)"
   ]
  },
  {
   "cell_type": "code",
   "execution_count": null,
   "metadata": {},
   "outputs": [],
   "source": [
    "transactions_by_state = defaultdict(list)\n",
    "\n",
    "conn = connect()\n",
    "cur = conn.cursor()\n",
    "\n",
    "for user_id, (lat, lng, loc) in user_id_to_loc_saved.items():\n",
    "    state = location_to_state(geo_cache[loc])\n",
    "    if state is None:\n",
    "        continue\n",
    "    cur.execute(\n",
    "        \"\"\"\n",
    "    SELECT 'from', id, message, type, created, actor_user_id, recipient_id FROM transactions WHERE actor_user_id=%s\n",
    "    UNION ALL\n",
    "    SELECT 'to', id, message, type, created, actor_user_id, recipient_id FROM transactions WHERE recipient_id=%s\n",
    "    \"\"\",\n",
    "        (user_id, user_id),\n",
    "    )\n",
    "    transactions = cur.fetchall()\n",
    "    from_user = [\n",
    "        t[1:]\n",
    "        for t in transactions\n",
    "        if t[0] == \"from\" and t[4] > datetime.datetime(2020, 3, 10)\n",
    "    ]\n",
    "    to_user = [\n",
    "        t[1:]\n",
    "        for t in transactions\n",
    "        if t[0] == \"to\" and t[4] > datetime.datetime(2020, 3, 10)\n",
    "    ]\n",
    "    transactions_by_state[state].extend(from_user + to_user)\n",
    "\n",
    "print('Saving...')\n",
    "with open(\"transactions_by_state.pkl\", \"wb\") as f:\n",
    "    pickle.dump(transactions_by_state, f)\n",
    "\n",
    "conn.close()"
   ]
  },
  {
   "cell_type": "code",
   "execution_count": null,
   "metadata": {},
   "outputs": [],
   "source": [
    "with open(\"transactions_by_state.pkl\", \"rb\") as f:\n",
    "    transactions_by_state_saved = pickle.load(f)\n",
    "\n",
    "df_by_state_data = {\"State\": [], \"Date\": []}\n",
    "for state, transactions in transactions_by_state_saved.items():\n",
    "    for id_, msg, type_, created, from_, to in transactions:\n",
    "        df_by_state_data[\"State\"].append(state)\n",
    "        df_by_state_data[\"Date\"].append(created.timestamp())\n",
    "df_by_state = pd.DataFrame(df_by_state_data)"
   ]
  },
  {
   "cell_type": "code",
   "execution_count": null,
   "metadata": {},
   "outputs": [],
   "source": [
    "fig, ax = plt.subplots(figsize=(15, 15))\n",
    "sns.histplot(\n",
    "    df_by_state[df_by_state.State == \"New York\"], x=\"Date\", hue=\"State\", ax=ax\n",
    ").set_title(\"Transactions\")\n",
    "_ = ax.set_xticklabels(\n",
    "    [datetime.datetime.fromtimestamp(ts).isoformat()[:10] for ts in ax.get_xticks()]\n",
    ")"
   ]
  }
 ],
 "metadata": {
  "kernelspec": {
   "display_name": "Python 3",
   "language": "python",
   "name": "python3"
  },
  "language_info": {
   "codemirror_mode": {
    "name": "ipython",
    "version": 3
   },
   "file_extension": ".py",
   "mimetype": "text/x-python",
   "name": "python",
   "nbconvert_exporter": "python",
   "pygments_lexer": "ipython3",
   "version": "3.8.3"
  }
 },
 "nbformat": 4,
 "nbformat_minor": 4
}
