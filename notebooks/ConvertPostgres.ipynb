{
 "cells": [
  {
   "cell_type": "code",
   "execution_count": null,
   "metadata": {},
   "outputs": [],
   "source": [
    "import psycopg2\n",
    "import sqlite3\n",
    "import json\n",
    "import os\n",
    "\n",
    "%load_ext nb_black"
   ]
  },
  {
   "cell_type": "code",
   "execution_count": null,
   "metadata": {},
   "outputs": [],
   "source": [
    "def connect():\n",
    "    conn = psycopg2.connect(\n",
    "        user=\"postgres\",\n",
    "        password=os.environ.get(\"POSTGRES_PASS\", \"\"),\n",
    "        host=\"localhost\",\n",
    "        port=5432,\n",
    "        database=\"venmo\",\n",
    "    )\n",
    "    return conn"
   ]
  },
  {
   "cell_type": "code",
   "execution_count": null,
   "metadata": {},
   "outputs": [],
   "source": [
    "conn = connect()\n",
    "lite_con = sqlite3.connect(\"F:/data-venmo/venmo.db\")"
   ]
  },
  {
   "cell_type": "code",
   "execution_count": null,
   "metadata": {},
   "outputs": [],
   "source": [
    "cur = conn.cursor()\n",
    "cur.execute(\"SELECT table_name, column_name, data_type FROM information_schema.columns\")\n",
    "tables = cur.fetchall()\n",
    "\n",
    "table_cols = {\"users\": {}, \"transactions\": {}, \"user_to_transactions\": {}}\n",
    "for table, col, dtype in tables:\n",
    "    if table not in table_cols:\n",
    "        continue\n",
    "    table_cols[table][col] = dtype\n",
    "\n",
    "lite_cur = lite_con.cursor()\n",
    "for table, col_types in table_cols.items():\n",
    "    lite_cur.execute(\n",
    "        \"\"\"\n",
    "    CREATE TABLE {}\n",
    "        ({})\n",
    "    \"\"\".format(\n",
    "            table,\n",
    "            \",\".join([col + \" \" + col_type for col, col_type in col_types.items()]),\n",
    "        )\n",
    "    )\n",
    "lite_con.commit()"
   ]
  },
  {
   "cell_type": "code",
   "execution_count": null,
   "metadata": {},
   "outputs": [],
   "source": [
    "table_cols"
   ]
  },
  {
   "cell_type": "code",
   "execution_count": null,
   "metadata": {
    "scrolled": true
   },
   "outputs": [],
   "source": [
    "for table, col_types in table_cols.items():\n",
    "    print(\"Exporting\", table)\n",
    "    with conn.cursor(name=\"read_all_\" + table) as cursor:\n",
    "        cursor.itersize = 10_000\n",
    "        cursor.execute(\n",
    "            \"\"\"\n",
    "        SELECT {} FROM {}\n",
    "        \"\"\".format(\n",
    "                \", \".join(col for col in col_types), table\n",
    "            )\n",
    "        )\n",
    "        batch = []\n",
    "        for i, item in enumerate(cursor):\n",
    "            item = [(json.dumps(v) if isinstance(v, dict) else v) for v in item]\n",
    "            batch.append(item)\n",
    "            if len(batch) == 10_000:\n",
    "                print(\" saving...\", i)\n",
    "                lite_cur.executemany(\n",
    "                    \"INSERT INTO {} VALUES ({})\".format(\n",
    "                        table, \",\".join([\"?\" for _ in col_types])\n",
    "                    ),\n",
    "                    batch,\n",
    "                )\n",
    "                lite_con.commit()\n",
    "                batch = []\n",
    "        if len(batch) > 0:\n",
    "            lite_cur.executemany(\n",
    "                \"INSERT INTO {} VALUES ({})\".format(\n",
    "                    table, \",\".join([\"?\" for _ in col_types])\n",
    "                ),\n",
    "                batch,\n",
    "            )\n",
    "            lite_con.commit()"
   ]
  }
 ],
 "metadata": {
  "kernelspec": {
   "display_name": "Python 3",
   "language": "python",
   "name": "python3"
  },
  "language_info": {
   "codemirror_mode": {
    "name": "ipython",
    "version": 3
   },
   "file_extension": ".py",
   "mimetype": "text/x-python",
   "name": "python",
   "nbconvert_exporter": "python",
   "pygments_lexer": "ipython3",
   "version": "3.8.3"
  }
 },
 "nbformat": 4,
 "nbformat_minor": 4
}
