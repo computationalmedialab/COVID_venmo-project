{
 "cells": [
  {
   "cell_type": "code",
   "execution_count": null,
   "metadata": {},
   "outputs": [],
   "source": [
    "import psycopg2\n",
    "from collections import Counter\n",
    "import pickle\n",
    "import pandas as pd\n",
    "import requests\n",
    "import os\n",
    "import re\n",
    "\n",
    "# https://github.com/openeventdata/mordecai\n",
    "#  $ python -m spacy download en_core_web_lg\n",
    "#  $ docker pull elasticsearch:5.5.2\n",
    "#  $ wget https://andrewhalterman.com/files/geonames_index.tar.gz\n",
    "#  $ docker run -d -p 127.0.0.1:9200:9200 -v $(pwd)/geonames_index/:/usr/share/elasticsearch/data elasticsearch:5.5.2\n",
    "from mordecai import Geoparser\n",
    "\n",
    "# https://github.com/somnathrakshit/geograpy3\n",
    "import geograpy\n",
    "\n",
    "%load_ext nb_black"
   ]
  },
  {
   "cell_type": "code",
   "execution_count": null,
   "metadata": {},
   "outputs": [],
   "source": [
    "def connect():\n",
    "    conn = psycopg2.connect(\n",
    "        user=\"postgres\",\n",
    "        password=os.environ.get(\"POSTGRES_PASS\", \"\"),\n",
    "        host=\"localhost\",\n",
    "        port=5432,\n",
    "        database=\"venmo\",\n",
    "    )\n",
    "    cur = conn.cursor()\n",
    "    return conn, cur"
   ]
  },
  {
   "cell_type": "code",
   "execution_count": null,
   "metadata": {},
   "outputs": [],
   "source": [
    "geo = Geoparser()"
   ]
  },
  {
   "cell_type": "code",
   "execution_count": null,
   "metadata": {
    "scrolled": true
   },
   "outputs": [],
   "source": [
    "mordecai_tokens = Counter()\n",
    "geograpy_tokens = Counter()\n",
    "meta = Counter()\n",
    "\n",
    "conn, _ = connect()\n",
    "with conn.cursor(name=\"exploration\") as cursor:\n",
    "    cursor.itersize = 2000\n",
    "    cursor.execute(\"SELECT * FROM transactions\")\n",
    "    for i, row in enumerate(cursor):\n",
    "        if i % 20000 == 0:\n",
    "            print(i)\n",
    "            with open('mordecai_tokens.pkl', 'wb') as f:\n",
    "                pickle.dump(mordecai_tokens, f)\n",
    "            with open('geograpy_tokens.pkl', 'wb') as f:\n",
    "                pickle.dump(geograpy_tokens, f)\n",
    "            with open('meta.pkl', 'wb') as f:\n",
    "                pickle.dump(meta, f)\n",
    "        msg = row[1]\n",
    "        msg = re.sub(r\"[^\\w\\d_\\- ]\", \"\", msg).strip()\n",
    "        meta['msgs'] += 1\n",
    "        if len(msg) == 0:\n",
    "            continue\n",
    "        meta['msgs_processed'] += 1\n",
    "            \n",
    "        geoplaces = geograpy.get_geoPlace_context(text=msg)\n",
    "        for name, _ in geoplaces.city_mentions:\n",
    "            geograpy_tokens[name] += 1\n",
    "        \n",
    "        try:\n",
    "            g = geo.geoparse(msg)\n",
    "            if len(g) == 0:\n",
    "                continue\n",
    "            for w in [item['word'] for item in g]:\n",
    "                mordecai_tokens[w] += 1\n",
    "        except:\n",
    "            pass\n",
    "            \n",
    "conn.close()"
   ]
  },
  {
   "cell_type": "code",
   "execution_count": null,
   "metadata": {},
   "outputs": [],
   "source": [
    "with open(\"mordecai_tokens.pkl\", \"rb\") as f:\n",
    "    mordecai_tokens = pickle.load(f)\n",
    "with open(\"geograpy_tokens.pkl\", \"rb\") as f:\n",
    "    geograpy_tokens = pickle.load(f)\n",
    "with open(\"meta.pkl\", \"rb\") as f:\n",
    "    meta = pickle.load(f)\n",
    "meta"
   ]
  },
  {
   "cell_type": "code",
   "execution_count": null,
   "metadata": {},
   "outputs": [],
   "source": [
    "mordecai_words.most_common(50)"
   ]
  },
  {
   "cell_type": "code",
   "execution_count": null,
   "metadata": {},
   "outputs": [],
   "source": [
    "geograpy_tokens.most_common(50)"
   ]
  }
 ],
 "metadata": {
  "kernelspec": {
   "display_name": "Python 3",
   "language": "python",
   "name": "python3"
  },
  "language_info": {
   "codemirror_mode": {
    "name": "ipython",
    "version": 3
   },
   "file_extension": ".py",
   "mimetype": "text/x-python",
   "name": "python",
   "nbconvert_exporter": "python",
   "pygments_lexer": "ipython3",
   "version": "3.8.3"
  }
 },
 "nbformat": 4,
 "nbformat_minor": 4
}
