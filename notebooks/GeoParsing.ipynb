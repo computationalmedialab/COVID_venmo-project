{
 "cells": [
  {
   "cell_type": "code",
   "execution_count": 1,
   "metadata": {},
   "outputs": [
    {
     "data": {
      "application/javascript": [
       "\n",
       "            setTimeout(function() {\n",
       "                var nbb_cell_id = 1;\n",
       "                var nbb_unformatted_code = \"from matplotlib import pyplot as plt\\nfrom collections import Counter, defaultdict\\nfrom IPython.display import display, HTML\\nimport seaborn as sns\\nimport pandas as pd\\nimport psycopg2\\nimport requests\\nimport pickle\\nimport random\\nimport os\\nimport re\\n\\nimport warnings\\n\\nwarnings.filterwarnings(\\\"ignore\\\")\\n\\n%load_ext nb_black\";\n",
       "                var nbb_formatted_code = \"from matplotlib import pyplot as plt\\nfrom collections import Counter, defaultdict\\nfrom IPython.display import display, HTML\\nimport seaborn as sns\\nimport pandas as pd\\nimport psycopg2\\nimport requests\\nimport pickle\\nimport random\\nimport os\\nimport re\\n\\nimport warnings\\n\\nwarnings.filterwarnings(\\\"ignore\\\")\\n\\n%load_ext nb_black\";\n",
       "                var nbb_cells = Jupyter.notebook.get_cells();\n",
       "                for (var i = 0; i < nbb_cells.length; ++i) {\n",
       "                    if (nbb_cells[i].input_prompt_number == nbb_cell_id) {\n",
       "                        if (nbb_cells[i].get_text() == nbb_unformatted_code) {\n",
       "                             nbb_cells[i].set_text(nbb_formatted_code);\n",
       "                        }\n",
       "                        break;\n",
       "                    }\n",
       "                }\n",
       "            }, 500);\n",
       "            "
      ],
      "text/plain": [
       "<IPython.core.display.Javascript object>"
      ]
     },
     "metadata": {},
     "output_type": "display_data"
    }
   ],
   "source": [
    "from matplotlib import pyplot as plt\n",
    "from collections import Counter, defaultdict\n",
    "from IPython.display import display, HTML\n",
    "import seaborn as sns\n",
    "import pandas as pd\n",
    "import psycopg2\n",
    "import requests\n",
    "import pickle\n",
    "import random\n",
    "import os\n",
    "import re\n",
    "\n",
    "import warnings\n",
    "\n",
    "warnings.filterwarnings(\"ignore\")\n",
    "\n",
    "%load_ext nb_black"
   ]
  },
  {
   "cell_type": "code",
   "execution_count": 2,
   "metadata": {},
   "outputs": [
    {
     "data": {
      "application/javascript": [
       "\n",
       "            setTimeout(function() {\n",
       "                var nbb_cell_id = 2;\n",
       "                var nbb_unformatted_code = \"def connect():\\n    conn = psycopg2.connect(\\n        user=\\\"postgres\\\",\\n        password=os.environ.get(\\\"POSTGRES_PASS\\\", \\\"\\\"),\\n        host=\\\"localhost\\\",\\n        port=5432,\\n        database=\\\"venmo\\\",\\n    )\\n    return conn\";\n",
       "                var nbb_formatted_code = \"def connect():\\n    conn = psycopg2.connect(\\n        user=\\\"postgres\\\",\\n        password=os.environ.get(\\\"POSTGRES_PASS\\\", \\\"\\\"),\\n        host=\\\"localhost\\\",\\n        port=5432,\\n        database=\\\"venmo\\\",\\n    )\\n    return conn\";\n",
       "                var nbb_cells = Jupyter.notebook.get_cells();\n",
       "                for (var i = 0; i < nbb_cells.length; ++i) {\n",
       "                    if (nbb_cells[i].input_prompt_number == nbb_cell_id) {\n",
       "                        if (nbb_cells[i].get_text() == nbb_unformatted_code) {\n",
       "                             nbb_cells[i].set_text(nbb_formatted_code);\n",
       "                        }\n",
       "                        break;\n",
       "                    }\n",
       "                }\n",
       "            }, 500);\n",
       "            "
      ],
      "text/plain": [
       "<IPython.core.display.Javascript object>"
      ]
     },
     "metadata": {},
     "output_type": "display_data"
    }
   ],
   "source": [
    "def connect():\n",
    "    conn = psycopg2.connect(\n",
    "        user=\"postgres\",\n",
    "        password=os.environ.get(\"POSTGRES_PASS\", \"\"),\n",
    "        host=\"localhost\",\n",
    "        port=5432,\n",
    "        database=\"venmo\",\n",
    "    )\n",
    "    return conn"
   ]
  },
  {
   "cell_type": "code",
   "execution_count": 3,
   "metadata": {},
   "outputs": [
    {
     "ename": "ModuleNotFoundError",
     "evalue": "No module named 'mordecai'",
     "output_type": "error",
     "traceback": [
      "\u001b[1;31m---------------------------------------------------------------------------\u001b[0m",
      "\u001b[1;31mModuleNotFoundError\u001b[0m                       Traceback (most recent call last)",
      "\u001b[1;32m<ipython-input-3-11f36995ca67>\u001b[0m in \u001b[0;36m<module>\u001b[1;34m\u001b[0m\n\u001b[0;32m      4\u001b[0m \u001b[1;31m#  $ wget https://andrewhalterman.com/files/geonames_index.tar.gz\u001b[0m\u001b[1;33m\u001b[0m\u001b[1;33m\u001b[0m\u001b[1;33m\u001b[0m\u001b[0m\n\u001b[0;32m      5\u001b[0m \u001b[1;31m#  $ docker run -d -p 127.0.0.1:9200:9200 -v $(pwd)/geonames_index/:/usr/share/elasticsearch/data elasticsearch:5.5.2\u001b[0m\u001b[1;33m\u001b[0m\u001b[1;33m\u001b[0m\u001b[1;33m\u001b[0m\u001b[0m\n\u001b[1;32m----> 6\u001b[1;33m \u001b[1;32mfrom\u001b[0m \u001b[0mmordecai\u001b[0m \u001b[1;32mimport\u001b[0m \u001b[0mGeoparser\u001b[0m\u001b[1;33m\u001b[0m\u001b[1;33m\u001b[0m\u001b[0m\n\u001b[0m\u001b[0;32m      7\u001b[0m \u001b[1;33m\u001b[0m\u001b[0m\n\u001b[0;32m      8\u001b[0m \u001b[1;31m# https://github.com/somnathrakshit/geograpy3\u001b[0m\u001b[1;33m\u001b[0m\u001b[1;33m\u001b[0m\u001b[1;33m\u001b[0m\u001b[0m\n",
      "\u001b[1;31mModuleNotFoundError\u001b[0m: No module named 'mordecai'"
     ]
    },
    {
     "data": {
      "application/javascript": [
       "\n",
       "            setTimeout(function() {\n",
       "                var nbb_cell_id = 3;\n",
       "                var nbb_unformatted_code = \"# https://github.com/openeventdata/mordecai\\n#  $ python -m spacy download en_core_web_lg\\n#  $ docker pull elasticsearch:5.5.2\\n#  $ wget https://andrewhalterman.com/files/geonames_index.tar.gz\\n#  $ docker run -d -p 127.0.0.1:9200:9200 -v $(pwd)/geonames_index/:/usr/share/elasticsearch/data elasticsearch:5.5.2\\nfrom mordecai import Geoparser\\n\\n# https://github.com/somnathrakshit/geograpy3\\n#  > This wasn't very good.\\n# import geograpy\";\n",
       "                var nbb_formatted_code = \"# https://github.com/openeventdata/mordecai\\n#  $ python -m spacy download en_core_web_lg\\n#  $ docker pull elasticsearch:5.5.2\\n#  $ wget https://andrewhalterman.com/files/geonames_index.tar.gz\\n#  $ docker run -d -p 127.0.0.1:9200:9200 -v $(pwd)/geonames_index/:/usr/share/elasticsearch/data elasticsearch:5.5.2\\nfrom mordecai import Geoparser\\n\\n# https://github.com/somnathrakshit/geograpy3\\n#  > This wasn't very good.\\n# import geograpy\";\n",
       "                var nbb_cells = Jupyter.notebook.get_cells();\n",
       "                for (var i = 0; i < nbb_cells.length; ++i) {\n",
       "                    if (nbb_cells[i].input_prompt_number == nbb_cell_id) {\n",
       "                        if (nbb_cells[i].get_text() == nbb_unformatted_code) {\n",
       "                             nbb_cells[i].set_text(nbb_formatted_code);\n",
       "                        }\n",
       "                        break;\n",
       "                    }\n",
       "                }\n",
       "            }, 500);\n",
       "            "
      ],
      "text/plain": [
       "<IPython.core.display.Javascript object>"
      ]
     },
     "metadata": {},
     "output_type": "display_data"
    }
   ],
   "source": [
    "# https://github.com/openeventdata/mordecai\n",
    "#  $ python -m spacy download en_core_web_lg\n",
    "#  $ docker pull elasticsearch:5.5.2\n",
    "#  $ wget https://andrewhalterman.com/files/geonames_index.tar.gz\n",
    "#  $ docker run -d -p 127.0.0.1:9200:9200 -v $(pwd)/geonames_index/:/usr/share/elasticsearch/data elasticsearch:5.5.2\n",
    "from mordecai import Geoparser\n",
    "\n",
    "# https://github.com/somnathrakshit/geograpy3\n",
    "#  > This wasn't very good.\n",
    "# import geograpy"
   ]
  },
  {
   "cell_type": "code",
   "execution_count": null,
   "metadata": {},
   "outputs": [],
   "source": [
    "geo = Geoparser()"
   ]
  },
  {
   "cell_type": "code",
   "execution_count": null,
   "metadata": {
    "scrolled": true
   },
   "outputs": [],
   "source": [
    "mordecai_tokens = Counter()\n",
    "mordecai_token_examples = defaultdict(list)\n",
    "meta = Counter()\n",
    "\n",
    "conn = connect()\n",
    "with conn.cursor(name=\"exploration\") as cursor:\n",
    "    cursor.itersize = 2000\n",
    "    cursor.execute(\"SELECT * FROM transactions\")\n",
    "    for i, row in enumerate(cursor):\n",
    "        if i % 10000 == 0 and i != 0:\n",
    "            # checkpoint\n",
    "            print(\"Checkpoint\", i)\n",
    "            with open(\"mordecai_tokens.pkl\", \"wb\") as f:\n",
    "                pickle.dump((mordecai_tokens, mordecai_token_examples), f)\n",
    "            with open(\"meta.pkl\", \"wb\") as f:\n",
    "                pickle.dump(meta, f)\n",
    "        raw_msg = row[1]\n",
    "        meta[\"msgs\"] += 1\n",
    "        if row[1] is None:\n",
    "            continue\n",
    "        msg = re.sub(r\"[^\\w\\d_\\- ]\", \"\", raw_msg).strip()\n",
    "        if len(msg) == 0:\n",
    "            continue\n",
    "        meta[\"msgs_processed\"] += 1\n",
    "\n",
    "        g = geo.geoparse(msg)\n",
    "        if len(g) != 0:\n",
    "            for w in [item[\"word\"] for item in g]:\n",
    "                mordecai_tokens[w] += 1\n",
    "                mordecai_token_examples[w].append(raw_msg)\n",
    "\n",
    "conn.close()"
   ]
  },
  {
   "cell_type": "code",
   "execution_count": null,
   "metadata": {},
   "outputs": [],
   "source": [
    "# Checkpoint\n",
    "with open(\"mordecai_tokens.pkl\", \"rb\") as f:\n",
    "    mordecai_tokens_saved, mordecai_token_examples_saved = pickle.load(f)\n",
    "with open(\"meta.pkl\", \"rb\") as f:\n",
    "    meta_saved = pickle.load(f)\n",
    "meta_saved"
   ]
  },
  {
   "cell_type": "code",
   "execution_count": null,
   "metadata": {},
   "outputs": [],
   "source": [
    "# 71%\n",
    "meta_saved[\"msgs_processed\"] / meta_saved[\"msgs\"]"
   ]
  },
  {
   "cell_type": "code",
   "execution_count": null,
   "metadata": {},
   "outputs": [],
   "source": [
    "# 2%\n",
    "sum(mordecai_tokens_saved.values()) / meta_saved[\"msgs\"]"
   ]
  },
  {
   "cell_type": "code",
   "execution_count": null,
   "metadata": {},
   "outputs": [],
   "source": [
    "REPLACE_MORDECAI_TOKENS = {\n",
    "    \"Cali\": \"California\",\n",
    "    \"jersey\": \"Jersey\",\n",
    "    \"baja\": \"Baja\",\n",
    "    \"Vegas\": \"Las Vegas\",\n",
    "    \"vegas\": \"Las Vegas\",\n",
    "    \"VEGAS\": \"Las Vegas\",\n",
    "    \"NYC\": \"New York City\",\n",
    "    \"Nyc\": \"New York City\",\n",
    "    \"LA\": \"Los Angeles\",\n",
    "    \"Philly\": \"Philadelphia\",\n",
    "    \"Nola\": \"New Orleans\",\n",
    "}\n",
    "IGNORE_MORDECAI_TOKENS = set(\n",
    "    [\n",
    "        \"Wendys\",\n",
    "        \"Bc\",\n",
    "        \"Hookers\",\n",
    "        \"foooood\",\n",
    "        \"Santa\",\n",
    "        \"Easter\",\n",
    "        \"Playa\",\n",
    "        \"Yeehaw\",\n",
    "        \"Zelle\",\n",
    "        \"AZ\",\n",
    "        \"Tn\",\n",
    "        \"Anotha\",\n",
    "        \"Rv\",\n",
    "        \"RV\",\n",
    "        \"FL\",\n",
    "        \"NY\",\n",
    "        \"Sydney\",\n",
    "        \"Turkey\",\n",
    "        \"Brittany\",\n",
    "        \"Cleaning\",\n",
    "        \"Pussy\",\n",
    "        \"Daves\",\n",
    "        \"Charlotte\",\n",
    "        \"NC\",\n",
    "        \"Beach\",\n",
    "        \"China\",\n",
    "        \"Paris\",\n",
    "        \"Mexico\",\n",
    "        \"Iceland\",\n",
    "        \"Cancun\",\n",
    "        \"Canada\",\n",
    "        \"Thailand\",\n",
    "        \"Tokyo\",\n",
    "        \"India\",\n",
    "        \"Montreal\",\n",
    "        \"Oktoberfest\",\n",
    "        \"Burma\",\n",
    "        \"Nepal\",\n",
    "        \"Peru\",\n",
    "        \"Colombia\",\n",
    "        \"Italy\",\n",
    "        \"Bangkok\",\n",
    "        \"Moscow\",\n",
    "        \"Japan\",\n",
    "        \"Greece\",\n",
    "        \"Berlin\",\n",
    "        \"America\",\n",
    "        \"Amsterdam\",\n",
    "        \"London\",\n",
    "        \"Saigon\",\n",
    "        \"Brazil\",\n",
    "        \"Barcelona\",\n",
    "        \"Spain\",\n",
    "        \"Africa Join\",\n",
    "        \"Tulum\",\n",
    "        \"Kathmandu\",\n",
    "    ]\n",
    ")\n",
    "N = 30\n",
    "\n",
    "# Handle aliases\n",
    "for repl, token in REPLACE_MORDECAI_TOKENS.items():\n",
    "    if repl in mordecai_tokens_saved:\n",
    "        cnt = mordecai_tokens_saved[repl]\n",
    "        del mordecai_tokens_saved[repl]\n",
    "        mordecai_tokens_saved[token] += cnt\n",
    "\n",
    "tokens = []\n",
    "counts = []\n",
    "for token, cnt in mordecai_tokens_saved.most_common(N * 2):\n",
    "    if token in IGNORE_MORDECAI_TOKENS:\n",
    "        continue\n",
    "    tokens.append(token)\n",
    "    counts.append(cnt)\n",
    "    if len(tokens) == N:\n",
    "        break\n",
    "plt.figure(figsize=(8, N // 5))\n",
    "sns.barplot(y=tokens, x=counts, orient=\"h\").set_title(\n",
    "    \"Mordecai Tokens\".format(meta_saved[\"msgs\"])\n",
    ")\n",
    "# Tokens for other countries often used as adjective, \"China virus\" \"China town\" \"China food\""
   ]
  },
  {
   "cell_type": "code",
   "execution_count": null,
   "metadata": {},
   "outputs": [],
   "source": [
    "df_data = {\"token\": [], \"examples\": []}\n",
    "for token in tokens[:5]:\n",
    "    sample_usage = random.sample(mordecai_token_examples_saved[token], 5)\n",
    "    df_data[\"token\"].append(token)\n",
    "    df_data[\"examples\"].append(\"\\n\".join(sample_usage))\n",
    "df = pd.DataFrame(df_data)\n",
    "df.set_index(\"token\")\n",
    "\n",
    "\n",
    "def pretty_print(df):\n",
    "    return display(HTML(df.to_html().replace(\"\\\\n\", \"<br>\")))\n",
    "\n",
    "\n",
    "pretty_print(df)"
   ]
  }
 ],
 "metadata": {
  "kernelspec": {
   "display_name": "Python 3",
   "language": "python",
   "name": "python3"
  },
  "language_info": {
   "codemirror_mode": {
    "name": "ipython",
    "version": 3
   },
   "file_extension": ".py",
   "mimetype": "text/x-python",
   "name": "python",
   "nbconvert_exporter": "python",
   "pygments_lexer": "ipython3",
   "version": "3.9.0"
  }
 },
 "nbformat": 4,
 "nbformat_minor": 4
}
