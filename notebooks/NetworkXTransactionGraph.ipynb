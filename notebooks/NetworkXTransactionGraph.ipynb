{
 "cells": [
  {
   "cell_type": "code",
   "execution_count": null,
   "metadata": {},
   "outputs": [],
   "source": [
    "from matplotlib import pyplot as plt\n",
    "from collections import Counter, defaultdict\n",
    "import seaborn as sns\n",
    "import pandas as pd\n",
    "import networkx as nx\n",
    "import psycopg2\n",
    "import pickle\n",
    "import os\n",
    "import re\n",
    "\n",
    "import warnings\n",
    "\n",
    "warnings.filterwarnings(\"ignore\")\n",
    "\n",
    "%load_ext nb_black"
   ]
  },
  {
   "cell_type": "code",
   "execution_count": null,
   "metadata": {},
   "outputs": [],
   "source": [
    "def connect():\n",
    "    conn = psycopg2.connect(\n",
    "        user=\"postgres\",\n",
    "        password=os.environ.get(\"POSTGRES_PASS\", \"\"),\n",
    "        host=\"localhost\",\n",
    "        port=5432,\n",
    "        database=\"venmo\",\n",
    "    )\n",
    "    return conn"
   ]
  },
  {
   "cell_type": "code",
   "execution_count": null,
   "metadata": {
    "scrolled": true
   },
   "outputs": [],
   "source": [
    "DG = nx.DiGraph()\n",
    "meta = Counter()\n",
    "\n",
    "conn = connect()\n",
    "with conn.cursor(name=\"network_x\") as cursor:\n",
    "    cursor.itersize = 2000\n",
    "    cursor.execute(\"SELECT * FROM transactions\")\n",
    "    for i, row in enumerate(cursor):\n",
    "        meta[\"msgs\"] += 1\n",
    "        if i % 2_000_000 == 0 and i != 0:\n",
    "            # checkpoint\n",
    "            print(\"Checkpoint\", i)\n",
    "            with open(\"graph_ckpt.pkl\", \"wb\") as f:\n",
    "                pickle.dump((meta, DG), f)\n",
    "        from_id = row[6]\n",
    "        to_id = row[7]\n",
    "        DG.add_edge(from_id, to_id)\n",
    "\n",
    "conn.close()"
   ]
  },
  {
   "cell_type": "code",
   "execution_count": null,
   "metadata": {},
   "outputs": [],
   "source": [
    "# Checkpoint\n",
    "with open(\"graph_ckpt.pkl\", \"rb\") as f:\n",
    "    meta_saved, DG_saved = pickle.load(f)"
   ]
  }
 ],
 "metadata": {
  "kernelspec": {
   "display_name": "Python 3",
   "language": "python",
   "name": "python3"
  },
  "language_info": {
   "codemirror_mode": {
    "name": "ipython",
    "version": 3
   },
   "file_extension": ".py",
   "mimetype": "text/x-python",
   "name": "python",
   "nbconvert_exporter": "python",
   "pygments_lexer": "ipython3",
   "version": "3.9.0"
  }
 },
 "nbformat": 4,
 "nbformat_minor": 4
}
