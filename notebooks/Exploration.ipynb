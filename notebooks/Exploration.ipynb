{
 "cells": [
  {
   "cell_type": "code",
   "execution_count": null,
   "metadata": {},
   "outputs": [],
   "source": [
    "from sqlalchemy import create_engine\n",
    "import pandas as pd\n",
    "import requests\n",
    "import os\n",
    "import re\n",
    "\n",
    "%load_ext nb_black"
   ]
  },
  {
   "cell_type": "code",
   "execution_count": null,
   "metadata": {},
   "outputs": [],
   "source": [
    "engine = create_engine(\n",
    "    \"postgresql://postgres:{}@localhost:5432/venmo\".format(\n",
    "        os.environ.get(\"POSTGRES_PASS\", \"\")\n",
    "    )\n",
    ")"
   ]
  },
  {
   "cell_type": "code",
   "execution_count": null,
   "metadata": {},
   "outputs": [],
   "source": [
    "trans_df = pd.read_sql_query(\n",
    "    \"select * from transactions order by id desc limit 10000\", con=engine\n",
    ")\n",
    "trans_df.head()"
   ]
  },
  {
   "cell_type": "code",
   "execution_count": null,
   "metadata": {},
   "outputs": [],
   "source": [
    "users_df = pd.read_sql_query(\n",
    "    \"select * from users order by id desc limit 1000\", con=engine\n",
    ")\n",
    "users_df.head()"
   ]
  },
  {
   "cell_type": "code",
   "execution_count": null,
   "metadata": {},
   "outputs": [],
   "source": [
    "places = pd.read_csv(\"us_cities_states_counties.data.csv\", \"|\").dropna()\n",
    "places.head()"
   ]
  },
  {
   "cell_type": "code",
   "execution_count": null,
   "metadata": {},
   "outputs": [],
   "source": [
    "cities = set(places[\"City\"].apply(lambda s: s.lower()))\n",
    "banned_locs = set(\n",
    "    [\n",
    "        \"may\",\n",
    "        \"sweet\",\n",
    "        \"chicken\",\n",
    "        \"early\",\n",
    "        \"price\",\n",
    "        \"chase\",\n",
    "        \"rentz\",\n",
    "        \"jacob\",\n",
    "        \"call\",\n",
    "        \"deposit\",\n",
    "        \"lovely\",\n",
    "        \"star\",\n",
    "        \"power\",\n",
    "        \"gas\",\n",
    "        \"tea\",\n",
    "        \"santa\",\n",
    "        \"manly\",\n",
    "        \"street\",\n",
    "        \"blue\",\n",
    "        \"bell\",\n",
    "        \"park\",\n",
    "        \"money\",\n",
    "        \"pillow\",\n",
    "        \"crossroads\",\n",
    "        \"susan\",\n",
    "        \"beaver\",\n",
    "        \"man\",\n",
    "        \"central\",\n",
    "        \"rose\",\n",
    "    ]\n",
    ")\n",
    "cities = cities - banned_locs"
   ]
  },
  {
   "cell_type": "code",
   "execution_count": null,
   "metadata": {},
   "outputs": [],
   "source": [
    "# vacations, so many actual weird town names, sports games\n",
    "for row in trans_df.iterrows():\n",
    "    idx, data = row\n",
    "    msg = data[\"message\"]\n",
    "    tokens = re.sub(r\"[^a-zA-Z ]\", \"\", msg.lower().strip()).split(\" \")\n",
    "    tokens = [t for t in tokens if t != \"\"]\n",
    "    for token in tokens:\n",
    "        if token in cities:\n",
    "            print(token, \"-\", msg)\n",
    "            break"
   ]
  },
  {
   "cell_type": "code",
   "execution_count": null,
   "metadata": {},
   "outputs": [],
   "source": [
    "# doesn't seem like these are used much\n",
    "covid_words = [\n",
    "    \"diagnosed\",\n",
    "    \"pneumonia\",\n",
    "    \"fever\",\n",
    "    \"covid\",\n",
    "    \"isolating\",\n",
    "    \"tested postive\",\n",
    "    \"quarantine\",\n",
    "]\n",
    "for row in trans_df.iterrows():\n",
    "    idx, data = row\n",
    "    msg = data[\"message\"]\n",
    "    tokens = re.sub(r\"[^a-zA-Z ]\", \"\", msg.lower().strip()).split(\" \")\n",
    "    tokens = [t for t in tokens if t != \"\"]\n",
    "    for token in tokens:\n",
    "        if token in covid_words:\n",
    "            print(token, \"-\", msg)\n",
    "            break"
   ]
  },
  {
   "cell_type": "code",
   "execution_count": null,
   "metadata": {},
   "outputs": [],
   "source": [
    "# ~55% have pictures\n",
    "for idx, row in users_df.iterrows():\n",
    "    print(row[\"name\"])\n",
    "    print(row[\"picture_url\"])"
   ]
  },
  {
   "cell_type": "code",
   "execution_count": null,
   "metadata": {},
   "outputs": [],
   "source": [
    "# https://developers.google.com/custom-search/v1/site_restricted_api\n",
    "# ...$450k for all users\n",
    "requests.get(\n",
    "    \"https://www.googleapis.com/customsearch/v1/siterestrict?key={}&cx={}&q={}\".format(\n",
    "        os.environ[\"CUSTOM_SEARCH_API_KEY\"], \"f881e7a3ef3ef62ce\", \"Shrivu Shankar\"\n",
    "    )\n",
    ").json()[\"items\"]"
   ]
  }
 ],
 "metadata": {
  "kernelspec": {
   "display_name": "Python 3",
   "language": "python",
   "name": "python3"
  },
  "language_info": {
   "codemirror_mode": {
    "name": "ipython",
    "version": 3
   },
   "file_extension": ".py",
   "mimetype": "text/x-python",
   "name": "python",
   "nbconvert_exporter": "python",
   "pygments_lexer": "ipython3",
   "version": "3.9.0"
  }
 },
 "nbformat": 4,
 "nbformat_minor": 4
}
